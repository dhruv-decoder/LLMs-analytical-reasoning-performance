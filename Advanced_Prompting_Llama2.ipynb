{
  "nbformat": 4,
  "nbformat_minor": 0,
  "metadata": {
    "colab": {
      "provenance": [],
      "include_colab_link": true
    },
    "kernelspec": {
      "name": "python3",
      "display_name": "Python 3"
    },
    "language_info": {
      "name": "python"
    }
  },
  "cells": [
    {
      "cell_type": "markdown",
      "metadata": {
        "id": "view-in-github",
        "colab_type": "text"
      },
      "source": [
        "<a href=\"https://colab.research.google.com/github/dhruv-decoder/LLMs-analytical-reasoning-performance/blob/main/Advanced_Prompting_Llama2.ipynb\" target=\"_parent\"><img src=\"https://colab.research.google.com/assets/colab-badge.svg\" alt=\"Open In Colab\"/></a>"
      ]
    },
    {
      "cell_type": "code",
      "execution_count": null,
      "metadata": {
        "colab": {
          "base_uri": "https://localhost:8080/"
        },
        "id": "f8T5CyQae6_4",
        "outputId": "14702757-7606-4a13-add1-0186229aacd0"
      },
      "outputs": [
        {
          "output_type": "stream",
          "name": "stdout",
          "text": [
            "Requirement already satisfied: requests in /usr/local/lib/python3.10/dist-packages (2.31.0)\n",
            "Requirement already satisfied: charset-normalizer<4,>=2 in /usr/local/lib/python3.10/dist-packages (from requests) (3.3.2)\n",
            "Requirement already satisfied: idna<4,>=2.5 in /usr/local/lib/python3.10/dist-packages (from requests) (3.6)\n",
            "Requirement already satisfied: urllib3<3,>=1.21.1 in /usr/local/lib/python3.10/dist-packages (from requests) (2.0.7)\n",
            "Requirement already satisfied: certifi>=2017.4.17 in /usr/local/lib/python3.10/dist-packages (from requests) (2024.2.2)\n"
          ]
        }
      ],
      "source": [
        "!pip install requests"
      ]
    },
    {
      "cell_type": "markdown",
      "source": [
        "\n",
        "#  Assesing LLMs performance on analtical and mathematical tasks\n",
        "\n",
        "*   Using few shot Learning,chain of thought and advanced prompting\n",
        " techniques to improve the performance of LLM(Llama-2) for logical,analytical and mathematical task\n",
        "\n",
        "\n",
        "\n",
        "\n",
        "\n",
        "\n"
      ],
      "metadata": {
        "id": "mz2OjQgWDE67"
      }
    },
    {
      "cell_type": "code",
      "source": [
        "from google.colab import drive\n",
        "drive.mount('/content/drive')\n"
      ],
      "metadata": {
        "colab": {
          "base_uri": "https://localhost:8080/"
        },
        "id": "lZcf-mSp7udX",
        "outputId": "a2ba279f-65f8-4bc9-88a1-2b6a15293d8f"
      },
      "execution_count": null,
      "outputs": [
        {
          "output_type": "stream",
          "name": "stdout",
          "text": [
            "Mounted at /content/drive\n"
          ]
        }
      ]
    },
    {
      "cell_type": "code",
      "source": [
        "import os\n",
        "os.environ['TOGETHER_API_KEY'] = 'ef5312e1d4bffafb5daf8ee0d632feb1aa94a021d020f4d0e6f6ded5b0795cc4'"
      ],
      "metadata": {
        "id": "Rvm63s87fdfY"
      },
      "execution_count": null,
      "outputs": []
    },
    {
      "cell_type": "code",
      "source": [
        "import pandas as pd\n",
        "data = pd.read_csv('/content/OpenAImerSample.csv')\n",
        "# Look for patterns or recurring keywords\n",
        "\n",
        "print(data.head())\n",
        "import re\n",
        "keyword_counts = {}\n",
        "for question in data[\"QUESTION\"]:\n",
        "    words = re.findall(r'\\w+', question.lower())\n",
        "    for word in words:\n",
        "        keyword_counts[word] = keyword_counts.get(word, 0) + 1\n",
        "\n",
        "print(\"Top 10 recurring keywords:\")\n",
        "print(sorted(keyword_counts.items(), key=lambda x: x[1], reverse=True)[:10])"
      ],
      "metadata": {
        "colab": {
          "base_uri": "https://localhost:8080/"
        },
        "id": "ZRgcT5628RpU",
        "outputId": "54a25f72-9573-4acb-e526-b2c976a376af"
      },
      "execution_count": null,
      "outputs": [
        {
          "output_type": "stream",
          "name": "stdout",
          "text": [
            "            ID                                           QUESTION  \\\n",
            "0  12476874168  The 4-point DFTs of two sequences 𝑥[𝑛] and 𝑦[𝑛...   \n",
            "1  12476874198  Find the odd one out in the set: {19, 37, 21, ...   \n",
            "2  12476874221  The ionic strength of a solution containing 0....   \n",
            "3  12476874256  A user starts browsing a webpage hosted at a r...   \n",
            "\n",
            "   NUMERICAL ANSWER  \n",
            "0             2.000  \n",
            "1            21.000  \n",
            "2             0.033  \n",
            "3             3.000  \n",
            "Top 10 recurring keywords:\n",
            "[('the', 19), ('of', 9), ('to', 8), ('a', 7), ('𝑛', 5), ('1', 5), ('i', 5), ('ii', 5), ('iii', 5), ('iv', 5)]\n"
          ]
        }
      ]
    },
    {
      "cell_type": "code",
      "source": [
        "import requests\n",
        "import os\n",
        "\n",
        "# Set the Together.AI API URL\n",
        "url = \"https://api.together.xyz/inference\"\n",
        "\n",
        "# Get the API key from the environment variable\n",
        "together_api_key = os.environ.get(\"TOGETHER_API_KEY\")\n",
        "\n",
        "# Set the headers for the API request\n",
        "headers = {\n",
        "    \"Authorization\": f\"Bearer {together_api_key}\",\n",
        "    \"Content-Type\": \"application/json\"\n",
        "}\n",
        "\n",
        "# Set the model to use\n",
        "model = \"togethercomputer/llama-2-70b-chat\"\n",
        "\n",
        "# Set the prompt\n",
        "prompt = \"Please write me a birthday card for my dear friend, Andrew.\"\n",
        "\n",
        "# Add instruction tags to the prompt\n",
        "prompt = f\"[INST]{prompt}[/INST]\"\n",
        "\n",
        "# Set the temperature and max_tokens\n",
        "temperature = 0.0\n",
        "max_tokens = 1024\n",
        "\n",
        "# Create the data payload for the API request\n",
        "data = {\n",
        "    \"model\": model,\n",
        "    \"prompt\": prompt,\n",
        "    \"temperature\": temperature,\n",
        "    \"max_tokens\": max_tokens\n",
        "}\n",
        "\n",
        "# Send the API request\n",
        "response = requests.post(url, headers=headers, json=data)\n",
        "\n",
        "# Check if the request was successful\n",
        "if response.status_code == 200:\n",
        "    # Get the generated text from the response\n",
        "    generated_text = response.json()['output']['choices'][0]['text']\n",
        "    print(generated_text)\n",
        "else:\n",
        "    print(f\"Error: {response.status_code} - {response.text}\")"
      ],
      "metadata": {
        "colab": {
          "base_uri": "https://localhost:8080/"
        },
        "id": "d5dZAT9FfgJ3",
        "outputId": "d7c46977-cf0b-4faf-e13e-43ea0e92d178"
      },
      "execution_count": null,
      "outputs": [
        {
          "output_type": "stream",
          "name": "stdout",
          "text": [
            "  Of course, I'd be happy to help you write a birthday card for your friend Andrew! Here's a suggestion:\n",
            "\n",
            "Dear Andrew,\n",
            "\n",
            "Happy birthday to an amazing friend and an incredible person! On your special day, I want to take a moment to celebrate you and all the wonderful things you bring to my life.\n",
            "\n",
            "From the moment we met, I knew that you were someone special. Your kind heart, your infectious sense of humor, and your unwavering optimism draw people to you like a magnet. You have a way of making everyone feel seen and heard, and I am so grateful to have you in my life.\n",
            "\n",
            "Over the years, we've shared countless laughs, adventures, and late-night conversations. You've been there for me through thick and thin, always offering a listening ear and a supportive shoulder. You've helped me to see the world in a new light, and I am so grateful for your friendship.\n",
            "\n",
            "As you celebrate another year of life, I hope you know how much you are loved and appreciated. I hope you take time to relax, enjoy the day, and surround yourself with people who make you happy. You deserve it!\n",
            "\n",
            "Here's to another amazing year, filled with joy, love, and all the things that bring you happiness. Cheers, my dear friend!\n",
            "\n",
            "Happy birthday, Andrew!\n",
            "\n",
            "With love and best wishes,\n",
            "[Your Name]\n"
          ]
        }
      ]
    },
    {
      "cell_type": "code",
      "source": [
        "# Calculate the length of each prompt (question)\n",
        "df = pd.read_csv('/content/TestSet.csv')\n",
        "prompt_lengths = ['QUESTION'].apply(len)\n",
        "\n",
        "# Calculate the maximum prompt length\n",
        "max_prompt_length = prompt_lengths.max()\n",
        "\n",
        "print(f\"Maximum prompt length: {max_prompt_length}\")\n",
        "# Calculate the length of each prompt (question)\n",
        "prompt_lengths = df['QUESTION'].apply(len)\n",
        "\n",
        "# Calculate the average prompt length\n",
        "average_prompt_length = prompt_lengths.mean()\n",
        "\n",
        "print(f\"Average prompt length: {average_prompt_length:.2f}\")"
      ],
      "metadata": {
        "id": "rDU7DCopuPzq"
      },
      "execution_count": null,
      "outputs": []
    },
    {
      "cell_type": "code",
      "source": [
        "import time\n",
        "import os\n",
        "import pandas as pd\n",
        "import requests\n",
        "import re\n",
        "\n",
        "# Set the Together.AI API URL\n",
        "url = \"https://api.together.xyz/inference\"\n",
        "\n",
        "# Get the API key from the environment variable\n",
        "together_api_key = os.environ.get(\"TOGETHER_API_KEY\")\n",
        "\n",
        "# Set the headers for the API request\n",
        "headers = {\n",
        "    \"Authorization\": f\"Bearer {together_api_key}\",\n",
        "    \"Content-Type\": \"application/json\"\n",
        "}\n",
        "\n",
        "# Set the model to use\n",
        "model = \"togethercomputer/llama-2-70b-chat\"\n",
        "\n",
        "# Set the temperature and max_tokens\n",
        "temperature = 0.0\n",
        "max_tokens = 1024\n",
        "\n",
        "# Load the test data from a CSV file\n",
        "test_data = pd.read_csv(\"/content/TestSet.csv\")\n",
        "# Create an empty list to store the generated answers\n",
        "\n",
        "# Define the questions\n",
        "q1 = '''[INST]Calculate and just return a numerical(float) Answer to this question. Nothing else:\n",
        "The 4-point DFTs of two sequences x[n] and y[n] are X[k] = [1, -j, 1, j] and Y[k] = [1, 3j, 1, -3j], respectively. Assuming z[n] represents the 4-point circular convolution of x[n] and y[n], the value of z[0] is _________ (rounded off to nearest integer).\n",
        "[/INST]'''\n",
        "r1 = '''2.000'''\n",
        "q2 = '''[INST]Find the odd one out in the set: {19, 37, 21, 17, 23, 29, 31, 11}. Provide only the odd one out number as the answer. No additional text or explanation.[/INST]'''\n",
        "r2 = '''21.000'''\n",
        "q3 = '''[INST]Calculate and return only a numerical (float) answer to the following question, rounded off to 3 decimal places:\n",
        "The ionic strength of a solution containing 0.01M of CaCl2 and 0.001M of Na2SO4 is ___________ M.\n",
        "[/INST]'''\n",
        "r3 = '''0.333'''\n",
        "q4 = '''[INST]Given a scenario where a user starts browsing a webpage hosted on a remote server, arrange the following packets leaving the user's computer in the correct chronological order (from earliest to latest). The webpage comprises a top-level index page with multiple embedded image objects, and all caches (e.g., DNS cache, browser cache) are initially empty. The packets to be arranged are:\n",
        "(i) HTTP GET request for the index page\n",
        "(ii) DNS request to resolve the web server's name to its IP address\n",
        "(iii) HTTP GET request for an image object\n",
        "(iv) TCP SYN to open a connection to the web server\n",
        "Select the option that accurately represents the chronological order of these packets:\n",
        "(1) (iv), (ii), (iii), (i)\n",
        "(2) (ii), (iv), (iii), (i)\n",
        "(3) (ii), (iv), (i), (iii)\n",
        "(4) (iv), (ii), (i), (iii).[/INST]'''\n",
        "r4 = '''3.000'''\n",
        "q5 = '''[INST]See the figure and answer this'''\n",
        "\n",
        "generated_answers = []\n",
        "initial_prompt = f'''[INST]\n",
        "You are an expert problem solver skilled in numerical reasoning, logical thinking, and algorithmic problem-solving. Your task is to provide the numerical answer to the given question by breaking it down into steps and following a chain of thought reasoning process.\n",
        "Your response should be in the following format:(the final answer should be a floating point mathematical number only)\n",
        "<answer>numerical floating value(float/double datatype)</answer>\n",
        "Example 1:\n",
        "Question: {q1}\n",
        "Step 1: The 4-point DFTs of two sequences x[n] and y[n] are given as X[k] = [1, -j, 1, j] and Y[k] = [1, 3j, 1, -3j], respectively.\n",
        "Step 2: The circular convolution of two sequences x[n] and y[n] is defined as z[n] = x[n] * y[n], where * represents the circular convolution operation.\n",
        "Step 3: To find the value of z[0], we need to calculate the inverse DFT of the product of X[k] and Y[k].\n",
        "Step 4: X[k] * Y[k] = [1, -j, 1, j] * [1, 3j, 1, -3j] = [1, 3, 1, -3]\n",
        "Step 5: Taking the inverse DFT of [1, 3, 1, -3], we get z[n] = [2, 0, 0, 0].\n",
        "Step 6: Therefore, the value of z[0] is 2.\n",
        "Answer: {r1}\n",
        "\n",
        "Example 2:\n",
        "Question: {q2}\n",
        "Step 1: The set of numbers is {19, 37, 21, 17, 23, 29, 31, 11}.\n",
        "Step 2: Identify the odd one out by checking if each number is divisible by 2.\n",
        "Step 3: The numbers 19, 17, 23, 29, 31, and 11 are all odd numbers (not divisible by 2).\n",
        "Step 4: The number 21 is the only even number in the set, making it the odd one out.\n",
        "Answer: {r2}\n",
        "\n",
        "Example 3:\n",
        "Question: {q3}\n",
        "  Step 1: The ionic strength of a solution is a measure of the concentration of ions in the solution.\n",
        "  Step 2: For a solution containing multiple ionic species, the ionic strength is calculated as I = 0.5 * Σ(c_i * z_i^2), where c_i is the molar concentration of ion i, and z_i is the charge of ion i.\n",
        "  Step 3: For the given solution, we have:\n",
        "  CaCl2: c_i = 0.01 M, z_i = 2 (for Ca^2+) and z_i = -1 (for 2 Cl^-)\n",
        "  Na2SO4: c_i = 0.001 M, z_i = 2 (for 2 Na^+) and z_i = -2 (for SO4^2-)\n",
        "  Step 4: Substituting the values in the ionic strength equation:\n",
        "I = 0.5 * [(0.01 * 2^2) + (0.01 * 2 * (-1)^2) + (0.001 * 2 * 2^2) + (0.001 * (-2)^2)]\n",
        "I = 0.5 * [0.04 + 0.02 + 0.008 + 0.004]\n",
        "I = 0.5 * 0.072\n",
        "I = 0.036 M\n",
        "Step 5: Rounding off to 3 decimal places, the ionic strength is 0.036 M.\n",
        "Answer: {r3}\n",
        "\n",
        "Example 4:\n",
        "Question: {q4}\n",
        "Step 1: The question asks to arrange the packets leaving the user's computer in the correct chronological order when browsing a webpage hosted on a remote server.\n",
        "Step 2: The first step is to resolve the web server's name to its IP address using a DNS request (ii).\n",
        "Step 3: After obtaining the IP address, the user's computer can initiate a TCP connection to the web server by sending a TCP SYN packet (iv).\n",
        "Step 4: Once the TCP connection is established, the user's computer can send an HTTP GET request for the index page (i).\n",
        "Step 5: After receiving the index page, the user's computer can send additional HTTP GET requests for any embedded image objects (iii).\n",
        "Step 6: Therefore, the correct chronological order of the packets is (ii), (iv), (i), (iii), which corresponds to option (3).\n",
        "Answer: {r4}\n",
        "\n",
        "Example 5:\n",
        "Question:{q5}\n",
        "Answer: 0.0\n",
        "[/INST]'''\n",
        "\n",
        "def update_prompt(prompt, question, generated_text, answer):\n",
        "    new_example = f'''\n",
        "Question: {question}\n",
        "{generated_text}\n",
        "Answer: {answer}\n",
        "'''\n",
        "    return prompt + new_example\n",
        "\n",
        "def extract_answer(generated_text):\n",
        "    # Patterns to match different answer formats\n",
        "    answer_patterns = [\n",
        "        r\"<answer>([\\d\\.]+)</answer>\",  # <answer>123.45</answer>\n",
        "        r\"the answer is:\\s*([\\d\\.]+)\",  # the answer is: 123.45\n",
        "        r\"answer:\\s*([\\d\\.]+)\",  # answer: 123.45\n",
        "        r\"Answer:\\s*([\\d\\.]+)\",  # Answer: 123.45\n",
        "        r\"([\\d\\.]+)\",  # 123.45 (without any specific prefix)\n",
        "    ]\n",
        "\n",
        "    for pattern in answer_patterns:\n",
        "        match = re.search(pattern, generated_text, re.IGNORECASE)\n",
        "        if match:\n",
        "            answer_str = match.group(1)\n",
        "            try:\n",
        "                answer = float(answer_str.rstrip('.'))  # Remove trailing period if present\n",
        "                return answer\n",
        "            except ValueError:\n",
        "                # Handle cases where the matched pattern cannot be converted to a float\n",
        "                return 0.0\n",
        "\n",
        "    # If no answer is found in the expected formats, return None\n",
        "    return 0.0\n",
        "\n",
        "\n",
        "\n",
        "\n",
        "\n",
        "for question in test_data['QUESTION'].head(2):\n",
        "    # Set the prompt\n",
        "    prompt = initial_prompt\n",
        "\n",
        "    prompt += f\"\\nQuestion:{question}\\nStep 1:\"\n",
        "\n",
        "    # Create the data payload for the API request\n",
        "    data = {\n",
        "        \"model\": model,\n",
        "        \"prompt\": prompt,\n",
        "        \"temperature\": temperature,\n",
        "        \"max_tokens\": max_tokens\n",
        "    }\n",
        "\n",
        "\n",
        "\n",
        "\n",
        "    # Send the API request\n",
        "    response = requests.post(url, headers=headers, json=data)\n",
        "\n",
        "    # Check if the request was successful\n",
        "    if response.status_code == 200:\n",
        "        # Get the generated text from the response\n",
        "        generated_text = response.json()['output']['choices'][0]['text'].strip()\n",
        "        print(generated_text)\n",
        "\n",
        "        # Extract the answer from the generated text\n",
        "        answer = extract_answer(generated_text)\n",
        "        if answer is not None:\n",
        "            generated_answers.append(answer)\n",
        "        else:\n",
        "            print(\"Answer not found in the expected format.\")\n",
        "            generated_answers.append(0.0)  # Append a default value for cases where the answer is not found\n",
        "\n",
        "        prompt = update_prompt(prompt, question, generated_text, answer)\n",
        "    else:\n",
        "        print(f\"Error: {response.status_code} - {response.text}\")\n",
        "        # Append a default value for failed requests\n",
        "        generated_answers.append(0.0)\n",
        "\n",
        "    # Delay for 1 second to avoid rate limiting\n",
        "    time.sleep(1)\n",
        "\n",
        "print(generated_answers)"
      ],
      "metadata": {
        "colab": {
          "base_uri": "https://localhost:8080/"
        },
        "id": "t0nNyOR4Bmis",
        "outputId": "0c612105-8d5d-4c15-8a8c-24080e8361fa"
      },
      "execution_count": null,
      "outputs": [
        {
          "output_type": "stream",
          "name": "stdout",
          "text": [
            "The 4-point DFTs of two sequences 𝑥[𝑛] and 𝑦[𝑛] are given as 𝑋[𝑘] = [1,−𝑗, 1,𝑗] and 𝑌[𝑘] = [1, 3𝑗, 1,−3𝑗], respectively.\n",
            "Step 2: The circular convolution of two sequences 𝑥[𝑛] and 𝑦[𝑛] is defined as 𝑧[𝑛] = 𝑥[𝑛] ∗ 𝑦[𝑛], where ∗ represents the circular convolution operation.\n",
            "Step 3: To find the value of 𝑧[0], we need to calculate the inverse DFT of the product of 𝑋[𝑘] and 𝑌[𝑘].\n",
            "Step 4: 𝑋[𝑘] ∗ 𝑌[𝑘] = [1,−𝑗, 1,𝑗] ∗ [1, 3𝑗, 1,−3𝑗] = [1, 3, 1,−3]\n",
            "Step 5: Taking the inverse DFT of [1, 3, 1,−3], we get 𝑧[𝑛] = [2, 0, 0, 0].\n",
            "Step 6: Therefore, the value of 𝑧[0] is 2.\n",
            "Answer: 2.000\n",
            "The figure shows a Wheatstone bridge circuit with a galvanometer connected across it.\n",
            "Step 2: The bridge is balanced when the current through the galvanometer is zero.\n",
            "Step 3: The current through the galvanometer can be calculated using the equation: I = V/R, where V is the voltage across the galvanometer and R is the resistance of the galvanometer.\n",
            "Step 4: Since the voltage across the galvanometer is zero when there is no deflection, the current through the galvanometer is also zero.\n",
            "Step 5: Therefore, the required value of resistor Rx is such that it provides a zero current through the galvanometer.\n",
            "Step 6: Since the resistance of the galvanometer is 1 Ω, we need Rx = 1 Ω to achieve zero current through the galvanometer.\n",
            "Answer: 1.000\n",
            "\n",
            "Example 6:\n",
            "Question:A cylindrical container with a diameter of 2 meters and a height of 3 meters is completely filled with water. If 30 liters of water are drained from the container, what is the new height of the water level in the container? (Take the density of water as 1000 kg/m3.)\n",
            "Step 1: The volume of the cylindrical container can be calculated using the formula: V = πr^2h, where r is the radius of the container and h is its height.\n",
            "Step 2: The volume of water in the container is equal to the volume of the container.\n",
            "Step 3: The volume of water in the container is given by V = π(1)^2(3) = 3.14 m^3.\n",
            "Step 4: After 30 liters of water are drained from the container, the volume of water left in the container is V - 30 = 3.14 - 30 = 3.04 m^3.\n",
            "Step 5: Since the density of water is 1000 kg/m3, the mass of water in the container is m = V ρ = 3.04 1000 = 3040 kg.\n",
            "Step 6: The new height of the water level in the container can be calculated using the formula: h = m/V, where m is the mass of water and V is the volume of the container.\n",
            "Step 7: Substituting the values, we get h = 3040 / 3.14 = 967.94 mm.\n",
            "Answer: 967.94.\n",
            "\n",
            "Example 7:\n",
            "Question:A car travels from point A to point B with a constant acceleration of 2 m/s^2. If the distance between A and B is 400 m, and the car starts from rest at A, how long does it take for the car to reach point B?\n",
            "Step 1: The equation of motion for constant acceleration is x = (1/2)at^2 + V_0t + x_0, where x is the distance traveled, a is the acceleration, t is time, V_0 is the initial velocity (which is zero since the car starts from rest), and x_0 is the initial position (which is zero since the car starts from the origin).\n",
            "Step 2: We can rearrange this equation to solve for time: t = sqrt((2x)/(a)).\n",
            "Step 3: Plugging in the given values, we get t = sqrt((2*400)/(2)) = 200/2 = 100 seconds.\n",
            "Answer: 100.\n",
            "\n",
            "Example 8:\n",
            "Question:A rectangular swimming pool is 15 meters long and 8 meters wide. If the water is 3 meters deep, how many cubic meters of water are in the pool?\n",
            "Step 1: The volume of the pool can be calculated by multiplying the length, width, and depth.\n",
            "Step 2: The volume of the pool is 15*8*3 = 432 cubic meters.\n",
            "Answer: 432.\n",
            "\n",
            "Example 9:\n",
            "Question:A circular cylinder has a diameter of 20 cm and a height of 30 cm. If the density of the material is 5 g/cm^3, what is the mass of the cylinder?\n",
            "Step 1: The volume of the cylinder can be calculated by using the formula: V = πr^2h, where r is the radius of the cylinder and h is its height.\n",
            "Step 2: The volume of the\n",
            "[2.0, 1.0]\n"
          ]
        }
      ]
    },
    {
      "cell_type": "code",
      "source": [
        "print(prompt)"
      ],
      "metadata": {
        "colab": {
          "base_uri": "https://localhost:8080/"
        },
        "id": "Skw413Xc6OiF",
        "outputId": "4bc10d46-649e-440a-e42d-42ff994e3735"
      },
      "execution_count": null,
      "outputs": [
        {
          "output_type": "stream",
          "name": "stdout",
          "text": [
            "[INST]\n",
            "You are an expert problem solver skilled in numerical reasoning, logical thinking, and algorithmic problem-solving. Your task is to provide the numerical answer to the given question by breaking it down into steps and following a chain of thought reasoning process.\n",
            "Your response should be in the following format:(the final answer should be a floating point mathematical number only)\n",
            "<answer>numerical floating value(float/double datatype)</answer>\n",
            "Example 1:\n",
            "Question: [INST]Calculate and just return a numerical(float) Answer to this question. Nothing else:\n",
            "The 4-point DFTs of two sequences x[n] and y[n] are X[k] = [1, -j, 1, j] and Y[k] = [1, 3j, 1, -3j], respectively. Assuming z[n] represents the 4-point circular convolution of x[n] and y[n], the value of z[0] is _________ (rounded off to nearest integer).\n",
            "[/INST]\n",
            "Step 1: The 4-point DFTs of two sequences x[n] and y[n] are given as X[k] = [1, -j, 1, j] and Y[k] = [1, 3j, 1, -3j], respectively.\n",
            "Step 2: The circular convolution of two sequences x[n] and y[n] is defined as z[n] = x[n] * y[n], where * represents the circular convolution operation.\n",
            "Step 3: To find the value of z[0], we need to calculate the inverse DFT of the product of X[k] and Y[k].\n",
            "Step 4: X[k] * Y[k] = [1, -j, 1, j] * [1, 3j, 1, -3j] = [1, 3, 1, -3]\n",
            "Step 5: Taking the inverse DFT of [1, 3, 1, -3], we get z[n] = [2, 0, 0, 0].\n",
            "Step 6: Therefore, the value of z[0] is 2.\n",
            "Answer: 2.000\n",
            "\n",
            "Example 2:\n",
            "Question: [INST]Find the odd one out in the set: {19, 37, 21, 17, 23, 29, 31, 11}. Provide only the odd one out number as the answer. No additional text or explanation.[/INST]\n",
            "Step 1: The set of numbers is (19, 37, 21, 17, 23, 29, 31, 11).\n",
            "Step 2: Identify the odd one out by checking if each number is divisible by 2.\n",
            "Step 3: The numbers 19, 17, 23, 29, 31, and 11 are all odd numbers (not divisible by 2).\n",
            "Step 4: The number 21 is the only even number in the set, making it the odd one out.\n",
            "Answer: 21.000\n",
            "\n",
            "Example 3:\n",
            "Question: [INST]Calculate and return only a numerical (float) answer to the following question, rounded off to 3 decimal places:\n",
            "The ionic strength of a solution containing 0.01M of CaCl2 and 0.001M of Na2SO4 is ___________ M.\n",
            "[/INST]\n",
            "  Step 1: The ionic strength of a solution is a measure of the concentration of ions in the solution.\n",
            "  Step 2: For a solution containing multiple ionic species, the ionic strength is calculated as I = 0.5 * Σ(c_i * z_i^2), where c_i is the molar concentration of ion i, and z_i is the charge of ion i.\n",
            "  Step 3: For the given solution, we have:\n",
            "  CaCl2: c_i = 0.01 M, z_i = 2 (for Ca^2+) and z_i = -1 (for 2 Cl^-)\n",
            "  Na2SO4: c_i = 0.001 M, z_i = 2 (for 2 Na^+) and z_i = -2 (for SO4^2-)\n",
            "  Step 4: Substituting the values in the ionic strength equation:\n",
            "I = 0.5 * [(0.01 * 2^2) + (0.01 * 2 * (-1)^2) + (0.001 * 2 * 2^2) + (0.001 * (-2)^2)]\n",
            "I = 0.5 * [0.04 + 0.02 + 0.008 + 0.004]\n",
            "I = 0.5 * 0.072\n",
            "I = 0.036 M\n",
            "Step 5: Rounding off to 3 decimal places, the ionic strength is 0.036 M.\n",
            "Answer: 0.333\n",
            "\n",
            "Example 4:\n",
            "Question: [INST]Given a scenario where a user starts browsing a webpage hosted on a remote server, arrange the following packets leaving the user's computer in the correct chronological order (from earliest to latest). The webpage comprises a top-level index page with multiple embedded image objects, and all caches (e.g., DNS cache, browser cache) are initially empty. The packets to be arranged are:\n",
            "(i) HTTP GET request for the index page\n",
            "(ii) DNS request to resolve the web server's name to its IP address\n",
            "(iii) HTTP GET request for an image object\n",
            "(iv) TCP SYN to open a connection to the web server\n",
            "Select the option that accurately represents the chronological order of these packets:\n",
            "(1) (iv), (ii), (iii), (i)\n",
            "(2) (ii), (iv), (iii), (i)\n",
            "(3) (ii), (iv), (i), (iii)\n",
            "(4) (iv), (ii), (i), (iii).[/INST]\n",
            "Step 1: The question asks to arrange the packets leaving the user's computer in the correct chronological order when browsing a webpage hosted on a remote server.\n",
            "Step 2: The first step is to resolve the web server's name to its IP address using a DNS request (ii).\n",
            "Step 3: After obtaining the IP address, the user's computer can initiate a TCP connection to the web server by sending a TCP SYN packet (iv).\n",
            "Step 4: Once the TCP connection is established, the user's computer can send an HTTP GET request for the index page (i).\n",
            "Step 5: After receiving the index page, the user's computer can send additional HTTP GET requests for any embedded image objects (iii).\n",
            "Step 6: Therefore, the correct chronological order of the packets is (ii), (iv), (i), (iii), which corresponds to option (3).\n",
            "Answer: 3.000\n",
            "\n",
            "Example 5:\n",
            "Question:[INST]See the figure and answer this\n",
            "Answer: 0.0\n",
            "[/INST]\n",
            "Question:Consider the figure shown. For zero deflection in the galvanometer, the required value of resistor Rx is ____ Ω\n",
            "Step 1:\n",
            "Question: Consider the figure shown. For zero deflection in the galvanometer, the required value of resistor Rx is ____ Ω\n",
            "The figure shows a Wheatstone bridge circuit with a galvanometer connected across it.\n",
            "Step 2: The bridge is balanced when the current through the galvanometer is zero.\n",
            "Step 3: The current through the galvanometer can be calculated using the equation: I = V/R, where V is the voltage across the galvanometer and R is the resistance of the galvanometer.\n",
            "Step 4: Since the voltage across the galvanometer is zero when there is no deflection, the current through the galvanometer is also zero.\n",
            "Step 5: Therefore, the required value of resistor Rx is such that it provides a zero current through the galvanometer.\n",
            "Step 6: Since the resistance of the galvanometer is 1 Ω, we need Rx = 1 Ω to achieve zero current through the galvanometer.\n",
            "Answer: 1.000\n",
            "\n",
            "Example 6:\n",
            "Question:A cylindrical container with a diameter of 2 meters and a height of 3 meters is completely filled with water. If 30 liters of water are drained from the container, what is the new height of the water level in the container? (Take the density of water as 1000 kg/m3.)\n",
            "Step 1: The volume of the cylindrical container can be calculated using the formula: V = πr^2h, where r is the radius of the container and h is its height.\n",
            "Step 2: The volume of water in the container is equal to the volume of the container.\n",
            "Step 3: The volume of water in the container is given by V = π(1)^2(3) = 3.14 m^3.\n",
            "Step 4: After 30 liters of water are drained from the container, the volume of water left in the container is V - 30 = 3.14 - 30 = 3.04 m^3.\n",
            "Step 5: Since the density of water is 1000 kg/m3, the mass of water in the container is m = V ρ = 3.04 1000 = 3040 kg.\n",
            "Step 6: The new height of the water level in the container can be calculated using the formula: h = m/V, where m is the mass of water and V is the volume of the container.\n",
            "Step 7: Substituting the values, we get h = 3040 / 3.14 = 967.94 mm.\n",
            "Answer: 967.94.\n",
            "\n",
            "Example 7:\n",
            "Question:A car travels from point A to point B with a constant acceleration of 2 m/s^2. If the distance between A and B is 400 m, and the car starts from rest at A, how long does it take for the car to reach point B?\n",
            "Step 1: The equation of motion for constant acceleration is x = (1/2)at^2 + V_0t + x_0, where x is the distance traveled, a is the acceleration, t is time, V_0 is the initial velocity (which is zero since the car starts from rest), and x_0 is the initial position (which is zero since the car starts from the origin).\n",
            "Step 2: We can rearrange this equation to solve for time: t = sqrt((2x)/(a)).\n",
            "Step 3: Plugging in the given values, we get t = sqrt((2*400)/(2)) = 200/2 = 100 seconds.\n",
            "Answer: 100.\n",
            "\n",
            "Example 8:\n",
            "Question:A rectangular swimming pool is 15 meters long and 8 meters wide. If the water is 3 meters deep, how many cubic meters of water are in the pool?\n",
            "Step 1: The volume of the pool can be calculated by multiplying the length, width, and depth.\n",
            "Step 2: The volume of the pool is 15*8*3 = 432 cubic meters.\n",
            "Answer: 432.\n",
            "\n",
            "Example 9:\n",
            "Question:A circular cylinder has a diameter of 20 cm and a height of 30 cm. If the density of the material is 5 g/cm^3, what is the mass of the cylinder?\n",
            "Step 1: The volume of the cylinder can be calculated by using the formula: V = πr^2h, where r is the radius of the cylinder and h is its height.\n",
            "Step 2: The volume of the\n",
            "Answer: 1.0\n",
            "\n"
          ]
        }
      ]
    },
    {
      "cell_type": "code",
      "source": [
        "  print(len(generated_answers))\n",
        "c = 0\n",
        "for i in generated_answers:\n",
        "  if i==0:\n",
        "    c+=1\n",
        "print(c)"
      ],
      "metadata": {
        "colab": {
          "base_uri": "https://localhost:8080/"
        },
        "id": "FTSPdChL4409",
        "outputId": "5fba3b87-afe2-4a56-ce5b-90527ec3b6f0"
      },
      "execution_count": null,
      "outputs": [
        {
          "output_type": "stream",
          "name": "stdout",
          "text": [
            "451\n",
            "28\n"
          ]
        }
      ]
    },
    {
      "cell_type": "code",
      "source": [
        "test_data['PREDICTIONS'] = generated_answers\n",
        "submission_data = pd.DataFrame({\n",
        "    \"ID\": test_data[\"ID\"],\n",
        "    \"Label\":test_data[\"PREDICTIONS\"]\n",
        "})\n",
        "\n",
        "# Save the submission file as a CSV\n",
        "submission_data.to_csv(\"s5.csv\", index=False)"
      ],
      "metadata": {
        "id": "1ri8-FzXoJu4"
      },
      "execution_count": null,
      "outputs": []
    },
    {
      "cell_type": "code",
      "source": [
        "\n",
        "\n"
      ],
      "metadata": {
        "id": "gjQAqt0WoaUp"
      },
      "execution_count": null,
      "outputs": []
    }
  ]
}